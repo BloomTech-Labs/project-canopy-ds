{
 "cells": [
  {
   "cell_type": "code",
   "execution_count": 21,
   "metadata": {},
   "outputs": [],
   "source": [
    "import pandas as pd\n",
    "Cou = pd.read_csv('/Users/julie/Desktop/labs/project-canopy-ds/clean_data/speciesList_in_CRB_Countries.csv',index_col = 0)\n",
    "Hab = pd.read_csv('/Users/julie/Desktop/labs/project-canopy-ds/clean_data/speciesList_in_CRB_Habitats.csv',index_col = 0)\n"
   ]
  },
  {
   "cell_type": "code",
   "execution_count": 22,
   "metadata": {},
   "outputs": [
    {
     "data": {
      "text/html": [
       "<div>\n",
       "<style scoped>\n",
       "    .dataframe tbody tr th:only-of-type {\n",
       "        vertical-align: middle;\n",
       "    }\n",
       "\n",
       "    .dataframe tbody tr th {\n",
       "        vertical-align: top;\n",
       "    }\n",
       "\n",
       "    .dataframe thead th {\n",
       "        text-align: right;\n",
       "    }\n",
       "</style>\n",
       "<table border=\"1\" class=\"dataframe\">\n",
       "  <thead>\n",
       "    <tr style=\"text-align: right;\">\n",
       "      <th></th>\n",
       "      <th>assessmentId</th>\n",
       "      <th>internalTaxonId</th>\n",
       "      <th>scientificName</th>\n",
       "      <th>code</th>\n",
       "      <th>name</th>\n",
       "      <th>presence</th>\n",
       "      <th>origin</th>\n",
       "      <th>seasonality</th>\n",
       "      <th>formerlyBred</th>\n",
       "    </tr>\n",
       "  </thead>\n",
       "  <tbody>\n",
       "    <tr>\n",
       "      <td>1</td>\n",
       "      <td>519491</td>\n",
       "      <td>137074</td>\n",
       "      <td>Paraphytus africanus</td>\n",
       "      <td>CD</td>\n",
       "      <td>Congo, The Democratic Republic of the</td>\n",
       "      <td>Presence Uncertain</td>\n",
       "      <td>Native</td>\n",
       "      <td>[\"Resident\"]</td>\n",
       "      <td>Unknown</td>\n",
       "    </tr>\n",
       "    <tr>\n",
       "      <td>4</td>\n",
       "      <td>520806</td>\n",
       "      <td>137161</td>\n",
       "      <td>Eodrepanus fastiditus</td>\n",
       "      <td>CD</td>\n",
       "      <td>Congo, The Democratic Republic of the</td>\n",
       "      <td>Extant</td>\n",
       "      <td>Native</td>\n",
       "      <td>[\"Resident\"]</td>\n",
       "      <td>Unknown</td>\n",
       "    </tr>\n",
       "    <tr>\n",
       "      <td>21</td>\n",
       "      <td>521021</td>\n",
       "      <td>137173</td>\n",
       "      <td>Onthophagus lacustris</td>\n",
       "      <td>CD</td>\n",
       "      <td>Congo, The Democratic Republic of the</td>\n",
       "      <td>Presence Uncertain</td>\n",
       "      <td>Native</td>\n",
       "      <td>[\"Resident\"]</td>\n",
       "      <td>Unknown</td>\n",
       "    </tr>\n",
       "    <tr>\n",
       "      <td>24</td>\n",
       "      <td>521177</td>\n",
       "      <td>137186</td>\n",
       "      <td>Onthophagus pugionatus</td>\n",
       "      <td>CD</td>\n",
       "      <td>Congo, The Democratic Republic of the</td>\n",
       "      <td>Extant</td>\n",
       "      <td>Native</td>\n",
       "      <td>[\"Resident\"]</td>\n",
       "      <td>Unknown</td>\n",
       "    </tr>\n",
       "    <tr>\n",
       "      <td>37</td>\n",
       "      <td>522595</td>\n",
       "      <td>137281</td>\n",
       "      <td>Pedaria ovata</td>\n",
       "      <td>CD</td>\n",
       "      <td>Congo, The Democratic Republic of the</td>\n",
       "      <td>Extant</td>\n",
       "      <td>Native</td>\n",
       "      <td>[\"Resident\"]</td>\n",
       "      <td>Unknown</td>\n",
       "    </tr>\n",
       "  </tbody>\n",
       "</table>\n",
       "</div>"
      ],
      "text/plain": [
       "    assessmentId  internalTaxonId          scientificName code  \\\n",
       "1         519491           137074    Paraphytus africanus   CD   \n",
       "4         520806           137161   Eodrepanus fastiditus   CD   \n",
       "21        521021           137173   Onthophagus lacustris   CD   \n",
       "24        521177           137186  Onthophagus pugionatus   CD   \n",
       "37        522595           137281           Pedaria ovata   CD   \n",
       "\n",
       "                                     name            presence  origin  \\\n",
       "1   Congo, The Democratic Republic of the  Presence Uncertain  Native   \n",
       "4   Congo, The Democratic Republic of the              Extant  Native   \n",
       "21  Congo, The Democratic Republic of the  Presence Uncertain  Native   \n",
       "24  Congo, The Democratic Republic of the              Extant  Native   \n",
       "37  Congo, The Democratic Republic of the              Extant  Native   \n",
       "\n",
       "     seasonality formerlyBred  \n",
       "1   [\"Resident\"]      Unknown  \n",
       "4   [\"Resident\"]      Unknown  \n",
       "21  [\"Resident\"]      Unknown  \n",
       "24  [\"Resident\"]      Unknown  \n",
       "37  [\"Resident\"]      Unknown  "
      ]
     },
     "execution_count": 22,
     "metadata": {},
     "output_type": "execute_result"
    }
   ],
   "source": [
    "Cou.head()\n"
   ]
  },
  {
   "cell_type": "code",
   "execution_count": 23,
   "metadata": {},
   "outputs": [
    {
     "data": {
      "text/html": [
       "<div>\n",
       "<style scoped>\n",
       "    .dataframe tbody tr th:only-of-type {\n",
       "        vertical-align: middle;\n",
       "    }\n",
       "\n",
       "    .dataframe tbody tr th {\n",
       "        vertical-align: top;\n",
       "    }\n",
       "\n",
       "    .dataframe thead th {\n",
       "        text-align: right;\n",
       "    }\n",
       "</style>\n",
       "<table border=\"1\" class=\"dataframe\">\n",
       "  <thead>\n",
       "    <tr style=\"text-align: right;\">\n",
       "      <th></th>\n",
       "      <th>assessmentId</th>\n",
       "      <th>internalTaxonId</th>\n",
       "      <th>scientificName</th>\n",
       "      <th>code</th>\n",
       "      <th>name</th>\n",
       "      <th>majorImportance</th>\n",
       "      <th>season</th>\n",
       "      <th>suitability</th>\n",
       "    </tr>\n",
       "  </thead>\n",
       "  <tbody>\n",
       "    <tr>\n",
       "      <td>0</td>\n",
       "      <td>519491</td>\n",
       "      <td>137074</td>\n",
       "      <td>Paraphytus africanus</td>\n",
       "      <td>1.6</td>\n",
       "      <td>Forest - Subtropical/Tropical Moist Lowland</td>\n",
       "      <td>Unknown</td>\n",
       "      <td>resident</td>\n",
       "      <td>Suitable</td>\n",
       "    </tr>\n",
       "    <tr>\n",
       "      <td>3</td>\n",
       "      <td>520806</td>\n",
       "      <td>137161</td>\n",
       "      <td>Eodrepanus fastiditus</td>\n",
       "      <td>1.5</td>\n",
       "      <td>Forest - Subtropical/Tropical Dry</td>\n",
       "      <td>Unknown</td>\n",
       "      <td>resident</td>\n",
       "      <td>Unknown</td>\n",
       "    </tr>\n",
       "    <tr>\n",
       "      <td>5</td>\n",
       "      <td>521021</td>\n",
       "      <td>137173</td>\n",
       "      <td>Onthophagus lacustris</td>\n",
       "      <td>1.5</td>\n",
       "      <td>Forest - Subtropical/Tropical Dry</td>\n",
       "      <td>Unknown</td>\n",
       "      <td>resident</td>\n",
       "      <td>Suitable</td>\n",
       "    </tr>\n",
       "    <tr>\n",
       "      <td>7</td>\n",
       "      <td>521177</td>\n",
       "      <td>137186</td>\n",
       "      <td>Onthophagus pugionatus</td>\n",
       "      <td>1.5</td>\n",
       "      <td>Forest - Subtropical/Tropical Dry</td>\n",
       "      <td>Unknown</td>\n",
       "      <td>resident</td>\n",
       "      <td>Suitable</td>\n",
       "    </tr>\n",
       "    <tr>\n",
       "      <td>8</td>\n",
       "      <td>522595</td>\n",
       "      <td>137281</td>\n",
       "      <td>Pedaria ovata</td>\n",
       "      <td>1.6</td>\n",
       "      <td>Forest - Subtropical/Tropical Moist Lowland</td>\n",
       "      <td>Unknown</td>\n",
       "      <td>resident</td>\n",
       "      <td>Suitable</td>\n",
       "    </tr>\n",
       "  </tbody>\n",
       "</table>\n",
       "</div>"
      ],
      "text/plain": [
       "   assessmentId  internalTaxonId          scientificName  code  \\\n",
       "0        519491           137074    Paraphytus africanus   1.6   \n",
       "3        520806           137161   Eodrepanus fastiditus   1.5   \n",
       "5        521021           137173   Onthophagus lacustris   1.5   \n",
       "7        521177           137186  Onthophagus pugionatus   1.5   \n",
       "8        522595           137281           Pedaria ovata   1.6   \n",
       "\n",
       "                                          name majorImportance    season  \\\n",
       "0  Forest - Subtropical/Tropical Moist Lowland         Unknown  resident   \n",
       "3            Forest - Subtropical/Tropical Dry         Unknown  resident   \n",
       "5            Forest - Subtropical/Tropical Dry         Unknown  resident   \n",
       "7            Forest - Subtropical/Tropical Dry         Unknown  resident   \n",
       "8  Forest - Subtropical/Tropical Moist Lowland         Unknown  resident   \n",
       "\n",
       "  suitability  \n",
       "0    Suitable  \n",
       "3     Unknown  \n",
       "5    Suitable  \n",
       "7    Suitable  \n",
       "8    Suitable  "
      ]
     },
     "execution_count": 23,
     "metadata": {},
     "output_type": "execute_result"
    }
   ],
   "source": [
    "Hab.head()"
   ]
  },
  {
   "cell_type": "code",
   "execution_count": 30,
   "metadata": {},
   "outputs": [
    {
     "data": {
      "text/plain": [
       "CD    4861\n",
       "CM    3811\n",
       "GA    2408\n",
       "CG    2375\n",
       "CF    2119\n",
       "Name: code, dtype: int64"
      ]
     },
     "execution_count": 30,
     "metadata": {},
     "output_type": "execute_result"
    }
   ],
   "source": [
    "Cou['code'].value_counts()"
   ]
  },
  {
   "cell_type": "code",
   "execution_count": 31,
   "metadata": {},
   "outputs": [
    {
     "data": {
      "text/plain": [
       "1.6     3117\n",
       "5.1     2611\n",
       "5.7     1510\n",
       "5.8     1397\n",
       "5.5     1291\n",
       "5.2     1243\n",
       "1.9     1242\n",
       "5.4     1238\n",
       "1.5      764\n",
       "5.6      626\n",
       "14.6     396\n",
       "1.8      365\n",
       "1.7      192\n",
       "5.3      169\n",
       "5.9      156\n",
       "Name: code, dtype: int64"
      ]
     },
     "execution_count": 31,
     "metadata": {},
     "output_type": "execute_result"
    }
   ],
   "source": [
    "Hab['code'].value_counts()"
   ]
  },
  {
   "cell_type": "code",
   "execution_count": 24,
   "metadata": {},
   "outputs": [
    {
     "data": {
      "text/html": [
       "<div>\n",
       "<style scoped>\n",
       "    .dataframe tbody tr th:only-of-type {\n",
       "        vertical-align: middle;\n",
       "    }\n",
       "\n",
       "    .dataframe tbody tr th {\n",
       "        vertical-align: top;\n",
       "    }\n",
       "\n",
       "    .dataframe thead th {\n",
       "        text-align: right;\n",
       "    }\n",
       "</style>\n",
       "<table border=\"1\" class=\"dataframe\">\n",
       "  <thead>\n",
       "    <tr style=\"text-align: right;\">\n",
       "      <th></th>\n",
       "      <th>assessmentId</th>\n",
       "      <th>internalTaxonId</th>\n",
       "    </tr>\n",
       "  </thead>\n",
       "  <tbody>\n",
       "    <tr>\n",
       "      <td>count</td>\n",
       "      <td>1.557400e+04</td>\n",
       "      <td>1.557400e+04</td>\n",
       "    </tr>\n",
       "    <tr>\n",
       "      <td>mean</td>\n",
       "      <td>7.298725e+07</td>\n",
       "      <td>3.460500e+07</td>\n",
       "    </tr>\n",
       "    <tr>\n",
       "      <td>std</td>\n",
       "      <td>5.369451e+07</td>\n",
       "      <td>5.035312e+07</td>\n",
       "    </tr>\n",
       "    <tr>\n",
       "      <td>min</td>\n",
       "      <td>5.194910e+05</td>\n",
       "      <td>5.610000e+02</td>\n",
       "    </tr>\n",
       "    <tr>\n",
       "      <td>25%</td>\n",
       "      <td>1.099913e+07</td>\n",
       "      <td>1.606435e+05</td>\n",
       "    </tr>\n",
       "    <tr>\n",
       "      <td>50%</td>\n",
       "      <td>8.756981e+07</td>\n",
       "      <td>2.006675e+05</td>\n",
       "    </tr>\n",
       "    <tr>\n",
       "      <td>75%</td>\n",
       "      <td>1.201603e+08</td>\n",
       "      <td>4.595443e+07</td>\n",
       "    </tr>\n",
       "    <tr>\n",
       "      <td>max</td>\n",
       "      <td>1.611787e+08</td>\n",
       "      <td>1.586922e+08</td>\n",
       "    </tr>\n",
       "  </tbody>\n",
       "</table>\n",
       "</div>"
      ],
      "text/plain": [
       "       assessmentId  internalTaxonId\n",
       "count  1.557400e+04     1.557400e+04\n",
       "mean   7.298725e+07     3.460500e+07\n",
       "std    5.369451e+07     5.035312e+07\n",
       "min    5.194910e+05     5.610000e+02\n",
       "25%    1.099913e+07     1.606435e+05\n",
       "50%    8.756981e+07     2.006675e+05\n",
       "75%    1.201603e+08     4.595443e+07\n",
       "max    1.611787e+08     1.586922e+08"
      ]
     },
     "execution_count": 24,
     "metadata": {},
     "output_type": "execute_result"
    }
   ],
   "source": [
    "Cou.describe()"
   ]
  },
  {
   "cell_type": "code",
   "execution_count": 25,
   "metadata": {},
   "outputs": [
    {
     "data": {
      "text/plain": [
       "(15574, 9)"
      ]
     },
     "execution_count": 25,
     "metadata": {},
     "output_type": "execute_result"
    }
   ],
   "source": [
    "Cou.shape"
   ]
  },
  {
   "cell_type": "code",
   "execution_count": 26,
   "metadata": {},
   "outputs": [
    {
     "data": {
      "text/plain": [
       "assessmentId       0\n",
       "internalTaxonId    0\n",
       "scientificName     0\n",
       "code               0\n",
       "name               0\n",
       "presence           0\n",
       "origin             0\n",
       "seasonality        0\n",
       "formerlyBred       0\n",
       "dtype: int64"
      ]
     },
     "execution_count": 26,
     "metadata": {},
     "output_type": "execute_result"
    }
   ],
   "source": [
    "Cou.isnull().sum()"
   ]
  },
  {
   "cell_type": "code",
   "execution_count": 29,
   "metadata": {},
   "outputs": [
    {
     "data": {
      "text/plain": [
       "Unknown    10424\n",
       "Yes         3372\n",
       "No          2521\n",
       "Name: majorImportance, dtype: int64"
      ]
     },
     "execution_count": 29,
     "metadata": {},
     "output_type": "execute_result"
    }
   ],
   "source": [
    "Hab['majorImportance'].value_counts()"
   ]
  },
  {
   "cell_type": "code",
   "execution_count": null,
   "metadata": {},
   "outputs": [],
   "source": []
  }
 ],
 "metadata": {
  "kernelspec": {
   "display_name": "Python 3",
   "language": "python",
   "name": "python3"
  },
  "language_info": {
   "codemirror_mode": {
    "name": "ipython",
    "version": 3
   },
   "file_extension": ".py",
   "mimetype": "text/x-python",
   "name": "python",
   "nbconvert_exporter": "python",
   "pygments_lexer": "ipython3",
   "version": "3.7.4"
  }
 },
 "nbformat": 4,
 "nbformat_minor": 4
}
