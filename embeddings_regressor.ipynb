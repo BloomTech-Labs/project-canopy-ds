{
 "cells": [
  {
   "cell_type": "markdown",
   "metadata": {},
   "source": [
    "# Train a regressor on a set of embeddings of species texts\n",
    "---\"ratinale\", \"habitat\", \"threat\", \"population\" "
   ]
  },
  {
   "cell_type": "code",
   "execution_count": 3,
   "metadata": {},
   "outputs": [],
   "source": [
    "import pandas as pd\n",
    "ass = pd.read_csv('/Users/julie/Desktop/labs/project-canopy-ds/data/clean_data/assessments.csv',index_col = False)"
   ]
  },
  {
   "cell_type": "code",
   "execution_count": 4,
   "metadata": {},
   "outputs": [
    {
     "data": {
      "text/html": [
       "<div>\n",
       "<style scoped>\n",
       "    .dataframe tbody tr th:only-of-type {\n",
       "        vertical-align: middle;\n",
       "    }\n",
       "\n",
       "    .dataframe tbody tr th {\n",
       "        vertical-align: top;\n",
       "    }\n",
       "\n",
       "    .dataframe thead th {\n",
       "        text-align: right;\n",
       "    }\n",
       "</style>\n",
       "<table border=\"1\" class=\"dataframe\">\n",
       "  <thead>\n",
       "    <tr style=\"text-align: right;\">\n",
       "      <th></th>\n",
       "      <th>assessmentId</th>\n",
       "      <th>internalTaxonId</th>\n",
       "      <th>scientificName</th>\n",
       "      <th>redlistCategory</th>\n",
       "      <th>redlistCriteria</th>\n",
       "      <th>yearPublished</th>\n",
       "      <th>assessmentDate</th>\n",
       "      <th>criteriaVersion</th>\n",
       "      <th>language</th>\n",
       "      <th>rationale</th>\n",
       "      <th>...</th>\n",
       "      <th>populationTrend</th>\n",
       "      <th>range</th>\n",
       "      <th>useTrade</th>\n",
       "      <th>systems</th>\n",
       "      <th>conservationActions</th>\n",
       "      <th>realm</th>\n",
       "      <th>yearLastSeen</th>\n",
       "      <th>possiblyExtinct</th>\n",
       "      <th>possiblyExtinctInTheWild</th>\n",
       "      <th>scopes</th>\n",
       "    </tr>\n",
       "  </thead>\n",
       "  <tbody>\n",
       "    <tr>\n",
       "      <th>0</th>\n",
       "      <td>519491</td>\n",
       "      <td>137074</td>\n",
       "      <td>Paraphytus africanus</td>\n",
       "      <td>Data Deficient</td>\n",
       "      <td>Unknown</td>\n",
       "      <td>2013</td>\n",
       "      <td>2013-07-30 00:00:00 UTC</td>\n",
       "      <td>3.1</td>\n",
       "      <td>English</td>\n",
       "      <td>Paraphytus africanus has been listed as Data D...</td>\n",
       "      <td>...</td>\n",
       "      <td>Unknown</td>\n",
       "      <td>This species was described  jointly from Angol...</td>\n",
       "      <td>There is no use or trade  information availabl...</td>\n",
       "      <td>Terrestrial</td>\n",
       "      <td>There are no species-specific  conservation ac...</td>\n",
       "      <td>Afrotropical</td>\n",
       "      <td>Unknown</td>\n",
       "      <td>False</td>\n",
       "      <td>False</td>\n",
       "      <td>Global</td>\n",
       "    </tr>\n",
       "    <tr>\n",
       "      <th>1</th>\n",
       "      <td>520806</td>\n",
       "      <td>137161</td>\n",
       "      <td>Eodrepanus fastiditus</td>\n",
       "      <td>Least Concern</td>\n",
       "      <td>Unknown</td>\n",
       "      <td>2013</td>\n",
       "      <td>2013-07-30 00:00:00 UTC</td>\n",
       "      <td>3.1</td>\n",
       "      <td>English</td>\n",
       "      <td>As Eodrepanus fastiditus is a very wide rangin...</td>\n",
       "      <td>...</td>\n",
       "      <td>Unknown</td>\n",
       "      <td>This species was described from  Frere in KwaZ...</td>\n",
       "      <td>There is no use or trade information available...</td>\n",
       "      <td>Terrestrial</td>\n",
       "      <td>There are no species-specific  conservation me...</td>\n",
       "      <td>Afrotropical</td>\n",
       "      <td>Unknown</td>\n",
       "      <td>False</td>\n",
       "      <td>False</td>\n",
       "      <td>Global</td>\n",
       "    </tr>\n",
       "    <tr>\n",
       "      <th>2</th>\n",
       "      <td>521021</td>\n",
       "      <td>137173</td>\n",
       "      <td>Onthophagus lacustris</td>\n",
       "      <td>Least Concern</td>\n",
       "      <td>Unknown</td>\n",
       "      <td>2013</td>\n",
       "      <td>2013-07-30 00:00:00 UTC</td>\n",
       "      <td>3.1</td>\n",
       "      <td>English</td>\n",
       "      <td>As Onthophagus lacustris  is found in shaded s...</td>\n",
       "      <td>...</td>\n",
       "      <td>Unknown</td>\n",
       "      <td>For the purpose of this  assessment, we restri...</td>\n",
       "      <td>Specimens  of this species are offered for sal...</td>\n",
       "      <td>Terrestrial</td>\n",
       "      <td>There are no species-specific  conservation ac...</td>\n",
       "      <td>Afrotropical</td>\n",
       "      <td>Unknown</td>\n",
       "      <td>False</td>\n",
       "      <td>False</td>\n",
       "      <td>Global</td>\n",
       "    </tr>\n",
       "    <tr>\n",
       "      <th>3</th>\n",
       "      <td>521177</td>\n",
       "      <td>137186</td>\n",
       "      <td>Onthophagus pugionatus</td>\n",
       "      <td>Least Concern</td>\n",
       "      <td>Unknown</td>\n",
       "      <td>2013</td>\n",
       "      <td>2013-07-30 00:00:00 UTC</td>\n",
       "      <td>3.1</td>\n",
       "      <td>English</td>\n",
       "      <td>Although Onthophagus pugionatus shows a large ...</td>\n",
       "      <td>...</td>\n",
       "      <td>Unknown</td>\n",
       "      <td>This species was described from  unspecified l...</td>\n",
       "      <td>There is no use or trade information available...</td>\n",
       "      <td>Terrestrial</td>\n",
       "      <td>There are no species-specific  conservation ac...</td>\n",
       "      <td>Afrotropical</td>\n",
       "      <td>Unknown</td>\n",
       "      <td>False</td>\n",
       "      <td>False</td>\n",
       "      <td>Global</td>\n",
       "    </tr>\n",
       "    <tr>\n",
       "      <th>4</th>\n",
       "      <td>522595</td>\n",
       "      <td>137281</td>\n",
       "      <td>Pedaria ovata</td>\n",
       "      <td>Data Deficient</td>\n",
       "      <td>Unknown</td>\n",
       "      <td>2014</td>\n",
       "      <td>2014-03-06 00:00:00 UTC</td>\n",
       "      <td>3.1</td>\n",
       "      <td>English</td>\n",
       "      <td>Pedaria ovata has been assessed as Data Defici...</td>\n",
       "      <td>...</td>\n",
       "      <td>Unknown</td>\n",
       "      <td>This species is known from Democratic Republic...</td>\n",
       "      <td>This species is unlikely to be utilized.</td>\n",
       "      <td>Terrestrial</td>\n",
       "      <td>There are no species-specific conservation mea...</td>\n",
       "      <td>Afrotropical</td>\n",
       "      <td>Unknown</td>\n",
       "      <td>False</td>\n",
       "      <td>False</td>\n",
       "      <td>Global</td>\n",
       "    </tr>\n",
       "  </tbody>\n",
       "</table>\n",
       "<p>5 rows × 23 columns</p>\n",
       "</div>"
      ],
      "text/plain": [
       "   assessmentId  internalTaxonId          scientificName redlistCategory  \\\n",
       "0        519491           137074    Paraphytus africanus  Data Deficient   \n",
       "1        520806           137161   Eodrepanus fastiditus   Least Concern   \n",
       "2        521021           137173   Onthophagus lacustris   Least Concern   \n",
       "3        521177           137186  Onthophagus pugionatus   Least Concern   \n",
       "4        522595           137281           Pedaria ovata  Data Deficient   \n",
       "\n",
       "  redlistCriteria  yearPublished           assessmentDate  criteriaVersion  \\\n",
       "0         Unknown           2013  2013-07-30 00:00:00 UTC              3.1   \n",
       "1         Unknown           2013  2013-07-30 00:00:00 UTC              3.1   \n",
       "2         Unknown           2013  2013-07-30 00:00:00 UTC              3.1   \n",
       "3         Unknown           2013  2013-07-30 00:00:00 UTC              3.1   \n",
       "4         Unknown           2014  2014-03-06 00:00:00 UTC              3.1   \n",
       "\n",
       "  language                                          rationale  ...  \\\n",
       "0  English  Paraphytus africanus has been listed as Data D...  ...   \n",
       "1  English  As Eodrepanus fastiditus is a very wide rangin...  ...   \n",
       "2  English  As Onthophagus lacustris  is found in shaded s...  ...   \n",
       "3  English  Although Onthophagus pugionatus shows a large ...  ...   \n",
       "4  English  Pedaria ovata has been assessed as Data Defici...  ...   \n",
       "\n",
       "  populationTrend                                              range  \\\n",
       "0         Unknown  This species was described  jointly from Angol...   \n",
       "1         Unknown  This species was described from  Frere in KwaZ...   \n",
       "2         Unknown  For the purpose of this  assessment, we restri...   \n",
       "3         Unknown  This species was described from  unspecified l...   \n",
       "4         Unknown  This species is known from Democratic Republic...   \n",
       "\n",
       "                                            useTrade      systems  \\\n",
       "0  There is no use or trade  information availabl...  Terrestrial   \n",
       "1  There is no use or trade information available...  Terrestrial   \n",
       "2  Specimens  of this species are offered for sal...  Terrestrial   \n",
       "3  There is no use or trade information available...  Terrestrial   \n",
       "4           This species is unlikely to be utilized.  Terrestrial   \n",
       "\n",
       "                                 conservationActions         realm  \\\n",
       "0  There are no species-specific  conservation ac...  Afrotropical   \n",
       "1  There are no species-specific  conservation me...  Afrotropical   \n",
       "2  There are no species-specific  conservation ac...  Afrotropical   \n",
       "3  There are no species-specific  conservation ac...  Afrotropical   \n",
       "4  There are no species-specific conservation mea...  Afrotropical   \n",
       "\n",
       "  yearLastSeen possiblyExtinct possiblyExtinctInTheWild  scopes  \n",
       "0      Unknown           False                    False  Global  \n",
       "1      Unknown           False                    False  Global  \n",
       "2      Unknown           False                    False  Global  \n",
       "3      Unknown           False                    False  Global  \n",
       "4      Unknown           False                    False  Global  \n",
       "\n",
       "[5 rows x 23 columns]"
      ]
     },
     "execution_count": 4,
     "metadata": {},
     "output_type": "execute_result"
    }
   ],
   "source": [
    "ass.head()"
   ]
  },
  {
   "cell_type": "code",
   "execution_count": 19,
   "metadata": {},
   "outputs": [],
   "source": [
    "ass_new = ass[[\"rationale\",\"habitat\",\"threats\",\"population\",\"populationTrend\",\"range\",\"useTrade\",\"conservationActions\"]]"
   ]
  },
  {
   "cell_type": "code",
   "execution_count": 20,
   "metadata": {},
   "outputs": [
    {
     "data": {
      "text/html": [
       "<div>\n",
       "<style scoped>\n",
       "    .dataframe tbody tr th:only-of-type {\n",
       "        vertical-align: middle;\n",
       "    }\n",
       "\n",
       "    .dataframe tbody tr th {\n",
       "        vertical-align: top;\n",
       "    }\n",
       "\n",
       "    .dataframe thead th {\n",
       "        text-align: right;\n",
       "    }\n",
       "</style>\n",
       "<table border=\"1\" class=\"dataframe\">\n",
       "  <thead>\n",
       "    <tr style=\"text-align: right;\">\n",
       "      <th></th>\n",
       "      <th>rationale</th>\n",
       "      <th>habitat</th>\n",
       "      <th>threats</th>\n",
       "      <th>population</th>\n",
       "      <th>populationTrend</th>\n",
       "      <th>range</th>\n",
       "      <th>useTrade</th>\n",
       "      <th>conservationActions</th>\n",
       "    </tr>\n",
       "  </thead>\n",
       "  <tbody>\n",
       "    <tr>\n",
       "      <th>0</th>\n",
       "      <td>Paraphytus africanus has been listed as Data D...</td>\n",
       "      <td>There are no habitat data  available for this ...</td>\n",
       "      <td>Considering that this species  probably shares...</td>\n",
       "      <td>There are no quantitative  population data ava...</td>\n",
       "      <td>Unknown</td>\n",
       "      <td>This species was described  jointly from Angol...</td>\n",
       "      <td>There is no use or trade  information availabl...</td>\n",
       "      <td>There are no species-specific  conservation ac...</td>\n",
       "    </tr>\n",
       "    <tr>\n",
       "      <th>1</th>\n",
       "      <td>As Eodrepanus fastiditus is a very wide rangin...</td>\n",
       "      <td>Locality records reported for  this very sma...</td>\n",
       "      <td>As this species is found in various dung types...</td>\n",
       "      <td>This species is recorded with a relatively low...</td>\n",
       "      <td>Unknown</td>\n",
       "      <td>This species was described from  Frere in KwaZ...</td>\n",
       "      <td>There is no use or trade information available...</td>\n",
       "      <td>There are no species-specific  conservation me...</td>\n",
       "    </tr>\n",
       "    <tr>\n",
       "      <th>2</th>\n",
       "      <td>As Onthophagus lacustris  is found in shaded s...</td>\n",
       "      <td>In Mkuzi Game Reserve in South Africa, trappin...</td>\n",
       "      <td>Clearance of forest or shaded  thickets is lik...</td>\n",
       "      <td>This species is locally abundant  in Maputo El...</td>\n",
       "      <td>Unknown</td>\n",
       "      <td>For the purpose of this  assessment, we restri...</td>\n",
       "      <td>Specimens  of this species are offered for sal...</td>\n",
       "      <td>There are no species-specific  conservation ac...</td>\n",
       "    </tr>\n",
       "    <tr>\n",
       "      <th>3</th>\n",
       "      <td>Although Onthophagus pugionatus shows a large ...</td>\n",
       "      <td>There is ample evidence that  this very small-...</td>\n",
       "      <td>As this species is associated  with shaded veg...</td>\n",
       "      <td>Quantitative data suggest that  this species o...</td>\n",
       "      <td>Unknown</td>\n",
       "      <td>This species was described from  unspecified l...</td>\n",
       "      <td>There is no use or trade information available...</td>\n",
       "      <td>There are no species-specific  conservation ac...</td>\n",
       "    </tr>\n",
       "    <tr>\n",
       "      <th>4</th>\n",
       "      <td>Pedaria ovata has been assessed as Data Defici...</td>\n",
       "      <td>The natural history of this species is poorly ...</td>\n",
       "      <td>The threats to this species are unknown. Altho...</td>\n",
       "      <td>There is no population information available f...</td>\n",
       "      <td>Unknown</td>\n",
       "      <td>This species is known from Democratic Republic...</td>\n",
       "      <td>This species is unlikely to be utilized.</td>\n",
       "      <td>There are no species-specific conservation mea...</td>\n",
       "    </tr>\n",
       "  </tbody>\n",
       "</table>\n",
       "</div>"
      ],
      "text/plain": [
       "                                           rationale  \\\n",
       "0  Paraphytus africanus has been listed as Data D...   \n",
       "1  As Eodrepanus fastiditus is a very wide rangin...   \n",
       "2  As Onthophagus lacustris  is found in shaded s...   \n",
       "3  Although Onthophagus pugionatus shows a large ...   \n",
       "4  Pedaria ovata has been assessed as Data Defici...   \n",
       "\n",
       "                                             habitat  \\\n",
       "0  There are no habitat data  available for this ...   \n",
       "1    Locality records reported for  this very sma...   \n",
       "2  In Mkuzi Game Reserve in South Africa, trappin...   \n",
       "3  There is ample evidence that  this very small-...   \n",
       "4  The natural history of this species is poorly ...   \n",
       "\n",
       "                                             threats  \\\n",
       "0  Considering that this species  probably shares...   \n",
       "1  As this species is found in various dung types...   \n",
       "2  Clearance of forest or shaded  thickets is lik...   \n",
       "3  As this species is associated  with shaded veg...   \n",
       "4  The threats to this species are unknown. Altho...   \n",
       "\n",
       "                                          population populationTrend  \\\n",
       "0  There are no quantitative  population data ava...         Unknown   \n",
       "1  This species is recorded with a relatively low...         Unknown   \n",
       "2  This species is locally abundant  in Maputo El...         Unknown   \n",
       "3  Quantitative data suggest that  this species o...         Unknown   \n",
       "4  There is no population information available f...         Unknown   \n",
       "\n",
       "                                               range  \\\n",
       "0  This species was described  jointly from Angol...   \n",
       "1  This species was described from  Frere in KwaZ...   \n",
       "2  For the purpose of this  assessment, we restri...   \n",
       "3  This species was described from  unspecified l...   \n",
       "4  This species is known from Democratic Republic...   \n",
       "\n",
       "                                            useTrade  \\\n",
       "0  There is no use or trade  information availabl...   \n",
       "1  There is no use or trade information available...   \n",
       "2  Specimens  of this species are offered for sal...   \n",
       "3  There is no use or trade information available...   \n",
       "4           This species is unlikely to be utilized.   \n",
       "\n",
       "                                 conservationActions  \n",
       "0  There are no species-specific  conservation ac...  \n",
       "1  There are no species-specific  conservation me...  \n",
       "2  There are no species-specific  conservation ac...  \n",
       "3  There are no species-specific  conservation ac...  \n",
       "4  There are no species-specific conservation mea...  "
      ]
     },
     "execution_count": 20,
     "metadata": {},
     "output_type": "execute_result"
    }
   ],
   "source": [
    "ass_new.head()"
   ]
  },
  {
   "cell_type": "code",
   "execution_count": 26,
   "metadata": {},
   "outputs": [],
   "source": [
    "ass['combined']= ass_new.values"
   ]
  },
  {
   "cell_type": "code",
   "execution_count": 27,
   "metadata": {},
   "outputs": [
    {
     "data": {
      "text/plain": [
       "6622"
      ]
     },
     "execution_count": 27,
     "metadata": {},
     "output_type": "execute_result"
    }
   ],
   "source": [
    "# we only need the texts for making embeddings\n",
    "test_texts = [text for text in ass['combined']]\n",
    "len(test_texts)"
   ]
  },
  {
   "cell_type": "code",
   "execution_count": 29,
   "metadata": {},
   "outputs": [],
   "source": [
    "#test_texts"
   ]
  },
  {
   "cell_type": "code",
   "execution_count": 31,
   "metadata": {},
   "outputs": [
    {
     "name": "stdout",
     "output_type": "stream",
     "text": [
      "Requirement already satisfied: basilica in /Users/julie/anaconda3/lib/python3.7/site-packages (0.2.8)\n",
      "Requirement already satisfied: six in /Users/julie/anaconda3/lib/python3.7/site-packages (from basilica) (1.12.0)\n",
      "Requirement already satisfied: requests in /Users/julie/anaconda3/lib/python3.7/site-packages (from basilica) (2.22.0)\n",
      "Requirement already satisfied: Pillow in /Users/julie/anaconda3/lib/python3.7/site-packages (from basilica) (6.2.0)\n",
      "Requirement already satisfied: certifi>=2017.4.17 in /Users/julie/anaconda3/lib/python3.7/site-packages (from requests->basilica) (2019.9.11)\n",
      "Requirement already satisfied: chardet<3.1.0,>=3.0.2 in /Users/julie/anaconda3/lib/python3.7/site-packages (from requests->basilica) (3.0.4)\n",
      "Requirement already satisfied: urllib3!=1.25.0,!=1.25.1,<1.26,>=1.21.1 in /Users/julie/anaconda3/lib/python3.7/site-packages (from requests->basilica) (1.24.2)\n",
      "Requirement already satisfied: idna<2.9,>=2.5 in /Users/julie/anaconda3/lib/python3.7/site-packages (from requests->basilica) (2.8)\n"
     ]
    }
   ],
   "source": [
    "!pip install basilica "
   ]
  },
  {
   "cell_type": "code",
   "execution_count": 35,
   "metadata": {},
   "outputs": [],
   "source": [
    "import numpy as np\n",
    "import sklearn.linear_model\n",
    "import sklearn.preprocessing\n",
    "import sklearn.decomposition\n",
    "import basilica"
   ]
  },
  {
   "cell_type": "code",
   "execution_count": 43,
   "metadata": {},
   "outputs": [
    {
     "data": {
      "text/plain": [
       "6622"
      ]
     },
     "execution_count": 43,
     "metadata": {},
     "output_type": "execute_result"
    }
   ],
   "source": [
    "#API_KEY = \n",
    "# get a real one\n",
    "API_KEY = '53d4be4d-9eef-19ef-343c-18a210aeb81e'\n",
    "\n",
    "\n",
    "# volume of use of this is monitored by basilica, especially when usinf 'SLOW_DEMO_KEY'\n",
    "# uncomment and run only when needed\n",
    "\n",
    "\n",
    "with basilica.Connection(API_KEY) as c:\n",
    "    embeddings = list(c.embed_sentences(test_texts))\n",
    "    \n",
    "len(embeddings)"
   ]
  },
  {
   "cell_type": "code",
   "execution_count": 44,
   "metadata": {},
   "outputs": [
    {
     "data": {
      "text/plain": [
       "(6622, 768)"
      ]
     },
     "execution_count": 44,
     "metadata": {},
     "output_type": "execute_result"
    }
   ],
   "source": [
    "# Normalize to help regressor work better\n",
    "normalized_embeddings = sklearn.preprocessing.normalize(embeddings)\n",
    "len(normalized_embeddings)\n",
    "# normalized_embeddings[0]\n",
    "\n",
    "# put the normalized embeddings back in a dataframe\n",
    "normalized_embeddings_df = pd.DataFrame(normalized_embeddings)\n",
    "# PCA the embeddings\n",
    "# sklearn.get_config()\n",
    "normalized_embeddings_df.shape"
   ]
  },
  {
   "cell_type": "markdown",
   "metadata": {},
   "source": [
    "# Split into X matrix (embeddings) and y vector (redlistCategory)"
   ]
  },
  {
   "cell_type": "code",
   "execution_count": 45,
   "metadata": {},
   "outputs": [
    {
     "name": "stdout",
     "output_type": "stream",
     "text": [
      "(6622,)\n",
      "False    6622\n",
      "Name: redlistCategory, dtype: int64\n"
     ]
    }
   ],
   "source": [
    "X = normalized_embeddings_df\n",
    "\n",
    "y =ass['redlistCategory']\n",
    "print(y.shape)\n",
    "print(y.isna().value_counts())\n"
   ]
  },
  {
   "cell_type": "code",
   "execution_count": 46,
   "metadata": {},
   "outputs": [
    {
     "name": "stdout",
     "output_type": "stream",
     "text": [
      "(6622, 768)\n"
     ]
    }
   ],
   "source": [
    "print(X.shape)"
   ]
  },
  {
   "cell_type": "markdown",
   "metadata": {},
   "source": [
    "# Training a regressor"
   ]
  },
  {
   "cell_type": "code",
   "execution_count": 47,
   "metadata": {},
   "outputs": [
    {
     "name": "stderr",
     "output_type": "stream",
     "text": [
      "/Users/julie/anaconda3/lib/python3.7/site-packages/sklearn/linear_model/logistic.py:432: FutureWarning: Default solver will be changed to 'lbfgs' in 0.22. Specify a solver to silence this warning.\n",
      "  FutureWarning)\n",
      "/Users/julie/anaconda3/lib/python3.7/site-packages/sklearn/linear_model/logistic.py:469: FutureWarning: Default multi_class will be changed to 'auto' in 0.22. Specify the multi_class option to silence this warning.\n",
      "  \"this warning.\", FutureWarning)\n"
     ]
    },
    {
     "data": {
      "text/plain": [
       "LogisticRegression(C=1.0, class_weight=None, dual=False, fit_intercept=True,\n",
       "                   intercept_scaling=1, l1_ratio=None, max_iter=1000,\n",
       "                   multi_class='warn', n_jobs=None, penalty='l2',\n",
       "                   random_state=None, solver='warn', tol=0.0001, verbose=0,\n",
       "                   warm_start=False)"
      ]
     },
     "execution_count": 47,
     "metadata": {},
     "output_type": "execute_result"
    }
   ],
   "source": [
    "X_train, X_test = sklearn.model_selection.train_test_split(X, random_state=72)\n",
    "y_train, y_test = sklearn.model_selection.train_test_split(y, random_state=72)\n",
    "\n",
    "model = sklearn.linear_model.LogisticRegression(max_iter=1000)\n",
    "model.fit(X_train, y_train)"
   ]
  },
  {
   "cell_type": "code",
   "execution_count": 49,
   "metadata": {},
   "outputs": [
    {
     "name": "stdout",
     "output_type": "stream",
     "text": [
      "Train accuracy: 0.831\n",
      "Test accuracy: 0.853\n"
     ]
    }
   ],
   "source": [
    "print('Train accuracy: %.3f' % model.score(X_train, y_train))\n",
    "print('Test accuracy: %.3f' % model.score(X_test, y_test))"
   ]
  },
  {
   "cell_type": "code",
   "execution_count": 52,
   "metadata": {},
   "outputs": [
    {
     "name": "stdout",
     "output_type": "stream",
     "text": [
      "(('predicted redlist category', 'Least Concern'), 'actual', 'Least Concern')\n"
     ]
    }
   ],
   "source": [
    "def predict_one_embedding(embdng):\n",
    "    \"\"\"Use model to predict based on one embedding.\"\"\"\n",
    "    return ('predicted redlist category', model.predict([embdng])[0])\n",
    "\n",
    "def predict_one_by_index(embeddings, idx):\n",
    "    \"\"\"Use model to predict based on one embedding,\n",
    "    selected by index from a list of embeddings.\"\"\"\n",
    "    return (predict_one_embedding(embeddings[idx]), 'actual', y[idx])\n",
    "\n",
    "\n",
    "print(predict_one_by_index(embeddings,2))\n"
   ]
  },
  {
   "cell_type": "code",
   "execution_count": 53,
   "metadata": {},
   "outputs": [
    {
     "name": "stdout",
     "output_type": "stream",
     "text": [
      "(('predicted redlist category', 'Near Threatened'), 'actual', 'Data Deficient')\n"
     ]
    }
   ],
   "source": [
    "print(predict_one_by_index(embeddings,10))"
   ]
  },
  {
   "cell_type": "code",
   "execution_count": 54,
   "metadata": {},
   "outputs": [
    {
     "name": "stdout",
     "output_type": "stream",
     "text": [
      "(('predicted redlist category', 'Least Concern'), 'actual', 'Least Concern')\n"
     ]
    }
   ],
   "source": [
    "print(predict_one_by_index(embeddings,100))"
   ]
  },
  {
   "cell_type": "code",
   "execution_count": 55,
   "metadata": {},
   "outputs": [
    {
     "name": "stdout",
     "output_type": "stream",
     "text": [
      "(('predicted redlist category', 'Near Threatened'), 'actual', 'Near Threatened')\n"
     ]
    }
   ],
   "source": [
    "print(predict_one_by_index(embeddings,25))"
   ]
  },
  {
   "cell_type": "code",
   "execution_count": 84,
   "metadata": {},
   "outputs": [
    {
     "data": {
      "text/plain": [
       "array(['Least Concern', 'Data Deficient', 'Least Concern', ...,\n",
       "       'Vulnerable', 'Least Concern', 'Endangered'], dtype=object)"
      ]
     },
     "execution_count": 84,
     "metadata": {},
     "output_type": "execute_result"
    }
   ],
   "source": [
    "predict = model.predict(X_train)\n",
    "predict"
   ]
  },
  {
   "cell_type": "code",
   "execution_count": 85,
   "metadata": {},
   "outputs": [],
   "source": [
    "pred = pd.DataFrame(predict)"
   ]
  },
  {
   "cell_type": "code",
   "execution_count": 86,
   "metadata": {},
   "outputs": [],
   "source": [
    "# make the index of X_test to an own dataframe\n",
    "pre_index = pd.DataFrame(X_train.index)\n",
    "pre_index.columns = ['pre_index']\n",
    "\n",
    "# ... and concat this dataframe with y_test\n",
    "pred = pd.concat([pred, pre_index], axis=1)\n",
    "pred.set_index(['pre_index'], inplace=True)"
   ]
  },
  {
   "cell_type": "code",
   "execution_count": 88,
   "metadata": {},
   "outputs": [
    {
     "data": {
      "text/html": [
       "<div>\n",
       "<style scoped>\n",
       "    .dataframe tbody tr th:only-of-type {\n",
       "        vertical-align: middle;\n",
       "    }\n",
       "\n",
       "    .dataframe tbody tr th {\n",
       "        vertical-align: top;\n",
       "    }\n",
       "\n",
       "    .dataframe thead th {\n",
       "        text-align: right;\n",
       "    }\n",
       "</style>\n",
       "<table border=\"1\" class=\"dataframe\">\n",
       "  <thead>\n",
       "    <tr style=\"text-align: right;\">\n",
       "      <th></th>\n",
       "      <th>0</th>\n",
       "    </tr>\n",
       "    <tr>\n",
       "      <th>pre_index</th>\n",
       "      <th></th>\n",
       "    </tr>\n",
       "  </thead>\n",
       "  <tbody>\n",
       "    <tr>\n",
       "      <th>4492</th>\n",
       "      <td>Least Concern</td>\n",
       "    </tr>\n",
       "    <tr>\n",
       "      <th>523</th>\n",
       "      <td>Data Deficient</td>\n",
       "    </tr>\n",
       "    <tr>\n",
       "      <th>4254</th>\n",
       "      <td>Least Concern</td>\n",
       "    </tr>\n",
       "    <tr>\n",
       "      <th>4453</th>\n",
       "      <td>Least Concern</td>\n",
       "    </tr>\n",
       "    <tr>\n",
       "      <th>1905</th>\n",
       "      <td>Critically Endangered</td>\n",
       "    </tr>\n",
       "    <tr>\n",
       "      <th>...</th>\n",
       "      <td>...</td>\n",
       "    </tr>\n",
       "    <tr>\n",
       "      <th>2885</th>\n",
       "      <td>Least Concern</td>\n",
       "    </tr>\n",
       "    <tr>\n",
       "      <th>3941</th>\n",
       "      <td>Least Concern</td>\n",
       "    </tr>\n",
       "    <tr>\n",
       "      <th>5166</th>\n",
       "      <td>Vulnerable</td>\n",
       "    </tr>\n",
       "    <tr>\n",
       "      <th>5907</th>\n",
       "      <td>Least Concern</td>\n",
       "    </tr>\n",
       "    <tr>\n",
       "      <th>4568</th>\n",
       "      <td>Endangered</td>\n",
       "    </tr>\n",
       "  </tbody>\n",
       "</table>\n",
       "<p>4966 rows × 1 columns</p>\n",
       "</div>"
      ],
      "text/plain": [
       "                               0\n",
       "pre_index                       \n",
       "4492               Least Concern\n",
       "523               Data Deficient\n",
       "4254               Least Concern\n",
       "4453               Least Concern\n",
       "1905       Critically Endangered\n",
       "...                          ...\n",
       "2885               Least Concern\n",
       "3941               Least Concern\n",
       "5166                  Vulnerable\n",
       "5907               Least Concern\n",
       "4568                  Endangered\n",
       "\n",
       "[4966 rows x 1 columns]"
      ]
     },
     "execution_count": 88,
     "metadata": {},
     "output_type": "execute_result"
    }
   ],
   "source": [
    "pred"
   ]
  },
  {
   "cell_type": "code",
   "execution_count": 89,
   "metadata": {},
   "outputs": [
    {
     "data": {
      "text/plain": [
       "4492            Least Concern\n",
       "523            Data Deficient\n",
       "4254            Least Concern\n",
       "4453            Least Concern\n",
       "1905    Critically Endangered\n",
       "                ...          \n",
       "2885            Least Concern\n",
       "3941            Least Concern\n",
       "5166               Vulnerable\n",
       "5907            Least Concern\n",
       "4568    Critically Endangered\n",
       "Name: redlistCategory, Length: 4966, dtype: object"
      ]
     },
     "execution_count": 89,
     "metadata": {},
     "output_type": "execute_result"
    }
   ],
   "source": [
    "y_train"
   ]
  },
  {
   "cell_type": "code",
   "execution_count": 92,
   "metadata": {},
   "outputs": [],
   "source": [
    "result = pd.concat([y_train, pred], axis=1)"
   ]
  },
  {
   "cell_type": "code",
   "execution_count": 94,
   "metadata": {},
   "outputs": [],
   "source": [
    "result.rename(columns={0:'predict'},inplace = True)"
   ]
  },
  {
   "cell_type": "code",
   "execution_count": 96,
   "metadata": {},
   "outputs": [
    {
     "data": {
      "text/html": [
       "<div>\n",
       "<style scoped>\n",
       "    .dataframe tbody tr th:only-of-type {\n",
       "        vertical-align: middle;\n",
       "    }\n",
       "\n",
       "    .dataframe tbody tr th {\n",
       "        vertical-align: top;\n",
       "    }\n",
       "\n",
       "    .dataframe thead th {\n",
       "        text-align: right;\n",
       "    }\n",
       "</style>\n",
       "<table border=\"1\" class=\"dataframe\">\n",
       "  <thead>\n",
       "    <tr style=\"text-align: right;\">\n",
       "      <th></th>\n",
       "      <th>redlistCategory</th>\n",
       "      <th>predict</th>\n",
       "    </tr>\n",
       "  </thead>\n",
       "  <tbody>\n",
       "    <tr>\n",
       "      <th>4492</th>\n",
       "      <td>Least Concern</td>\n",
       "      <td>Least Concern</td>\n",
       "    </tr>\n",
       "    <tr>\n",
       "      <th>523</th>\n",
       "      <td>Data Deficient</td>\n",
       "      <td>Data Deficient</td>\n",
       "    </tr>\n",
       "    <tr>\n",
       "      <th>4254</th>\n",
       "      <td>Least Concern</td>\n",
       "      <td>Least Concern</td>\n",
       "    </tr>\n",
       "    <tr>\n",
       "      <th>4453</th>\n",
       "      <td>Least Concern</td>\n",
       "      <td>Least Concern</td>\n",
       "    </tr>\n",
       "    <tr>\n",
       "      <th>1905</th>\n",
       "      <td>Critically Endangered</td>\n",
       "      <td>Critically Endangered</td>\n",
       "    </tr>\n",
       "    <tr>\n",
       "      <th>...</th>\n",
       "      <td>...</td>\n",
       "      <td>...</td>\n",
       "    </tr>\n",
       "    <tr>\n",
       "      <th>1826</th>\n",
       "      <td>Least Concern</td>\n",
       "      <td>Least Concern</td>\n",
       "    </tr>\n",
       "    <tr>\n",
       "      <th>5603</th>\n",
       "      <td>Least Concern</td>\n",
       "      <td>Least Concern</td>\n",
       "    </tr>\n",
       "    <tr>\n",
       "      <th>2436</th>\n",
       "      <td>Least Concern</td>\n",
       "      <td>Least Concern</td>\n",
       "    </tr>\n",
       "    <tr>\n",
       "      <th>4560</th>\n",
       "      <td>Least Concern</td>\n",
       "      <td>Least Concern</td>\n",
       "    </tr>\n",
       "    <tr>\n",
       "      <th>3930</th>\n",
       "      <td>Least Concern</td>\n",
       "      <td>Least Concern</td>\n",
       "    </tr>\n",
       "  </tbody>\n",
       "</table>\n",
       "<p>100 rows × 2 columns</p>\n",
       "</div>"
      ],
      "text/plain": [
       "            redlistCategory                predict\n",
       "4492          Least Concern          Least Concern\n",
       "523          Data Deficient         Data Deficient\n",
       "4254          Least Concern          Least Concern\n",
       "4453          Least Concern          Least Concern\n",
       "1905  Critically Endangered  Critically Endangered\n",
       "...                     ...                    ...\n",
       "1826          Least Concern          Least Concern\n",
       "5603          Least Concern          Least Concern\n",
       "2436          Least Concern          Least Concern\n",
       "4560          Least Concern          Least Concern\n",
       "3930          Least Concern          Least Concern\n",
       "\n",
       "[100 rows x 2 columns]"
      ]
     },
     "execution_count": 96,
     "metadata": {},
     "output_type": "execute_result"
    }
   ],
   "source": [
    "result.head(100)"
   ]
  },
  {
   "cell_type": "code",
   "execution_count": null,
   "metadata": {},
   "outputs": [],
   "source": []
  },
  {
   "cell_type": "code",
   "execution_count": null,
   "metadata": {},
   "outputs": [],
   "source": []
  },
  {
   "cell_type": "code",
   "execution_count": null,
   "metadata": {},
   "outputs": [],
   "source": []
  },
  {
   "cell_type": "code",
   "execution_count": null,
   "metadata": {},
   "outputs": [],
   "source": []
  }
 ],
 "metadata": {
  "kernelspec": {
   "display_name": "Python 3",
   "language": "python",
   "name": "python3"
  },
  "language_info": {
   "codemirror_mode": {
    "name": "ipython",
    "version": 3
   },
   "file_extension": ".py",
   "mimetype": "text/x-python",
   "name": "python",
   "nbconvert_exporter": "python",
   "pygments_lexer": "ipython3",
   "version": "3.7.4"
  }
 },
 "nbformat": 4,
 "nbformat_minor": 4
}
